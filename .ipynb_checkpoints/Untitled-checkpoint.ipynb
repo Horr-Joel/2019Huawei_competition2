{
 "cells": [
  {
   "cell_type": "code",
   "execution_count": 3,
   "metadata": {},
   "outputs": [],
   "source": [
    "import numpy as np\n",
    "import pandas as pd\n",
    "from matplotlib import pyplot as plt\n",
    "import tqdm\n",
    "import gc"
   ]
  },
  {
   "cell_type": "code",
   "execution_count": 5,
   "metadata": {},
   "outputs": [
    {
     "name": "stdout",
     "output_type": "stream",
     "text": [
      "1\n",
      "2\n",
      "3\n",
      "4\n",
      "5\n",
      "6\n",
      "7\n",
      "8\n",
      "9\n",
      "10\n",
      "11\n",
      "12\n",
      "13\n",
      "14\n",
      "15\n",
      "16\n",
      "17\n",
      "18\n",
      "19\n",
      "20\n",
      "21\n",
      "22\n",
      "23\n",
      "24\n",
      "25\n",
      "26\n",
      "27\n",
      "28\n",
      "29\n",
      "30\n",
      "31\n",
      "32\n"
     ]
    }
   ],
   "source": [
    "from collections import defaultdict as dd\n",
    "\n",
    "reader = pd.read_csv(\"data/train_20190518.csv\",header=None, usecols=[0,3],chunksize=5000000)\n",
    "label1 = dd(int)\n",
    "label0 = dd(int)\n",
    "i = 1\n",
    "for each in reader:\n",
    "    print(\"%d\" % i)\n",
    "    each.columns = ['label','operTime']\n",
    "    each['operTime'] = each['operTime'].apply(lambda x: int(x.split(' ')[1][:2]) if isinstance(x,str) else -1)\n",
    "    l1 = each[each['label']==1]['operTime']\n",
    "    l0 = each[each['label']==0]['operTime']\n",
    "    dic1 = l1.value_counts().to_dict()\n",
    "    dic0 = l0.value_counts().to_dict()\n",
    "    for each in dic1:\n",
    "        label1[each] += dic1[each]\n",
    "    for each in dic0:\n",
    "        label0[each] += dic0[each]\n",
    "    i += 1"
   ]
  },
  {
   "cell_type": "code",
   "execution_count": 9,
   "metadata": {},
   "outputs": [
    {
     "data": {
      "image/png": "[encoded data removed]",
      "text/plain": [
       "<Figure size 432x288 with 1 Axes>"
      ]
     },
     "metadata": {},
     "output_type": "display_data"
    }
   ],
   "source": [
    "# label分别为0和1的用户行为时间（小时）分布\n",
    "x = []\n",
    "y = []\n",
    "for k in sorted(label1):\n",
    "    x.append(k)\n",
    "    y.append(label1[k])\n",
    "plt.plot(x,y,'g')\n",
    "x = []\n",
    "y = []\n",
    "for k in sorted(label0):\n",
    "    x.append(k)\n",
    "    y.append(label0[k])\n",
    "plt.plot(x,y,'r')\n",
    "plt.show()"
   ]
  },
  {
   "cell_type": "code",
   "execution_count": 11,
   "metadata": {},
   "outputs": [
    {
     "data": {
      "image/png": "[encoded data removed]",
      "text/plain": [
       "<Figure size 432x288 with 1 Axes>"
      ]
     },
     "metadata": {},
     "output_type": "display_data"
    }
   ],
   "source": [
    "# 所有行为 时间（小时）分布\n",
    "label = dd(int)\n",
    "for each in label0:\n",
    "    label[each] += label1[each]+label0[each]\n",
    "x = []\n",
    "y = []\n",
    "for k in sorted(label):\n",
    "    x.append(k)\n",
    "    y.append(label[k])\n",
    "plt.plot(x,y,'r')\n",
    "plt.show()"
   ]
  },
  {
   "cell_type": "code",
   "execution_count": 50,
   "metadata": {},
   "outputs": [],
   "source": [
    "def hasnan(data):\n",
    "    s = data.shape[0]\n",
    "    print(\"columns:%d\"%s)\n",
    "    for f in data.columns:\n",
    "        if any(data[f].isnull()):\n",
    "            print(\"columns:%s %f\" % (f,data[f].count()/s))"
   ]
  },
  {
   "cell_type": "code",
   "execution_count": 6,
   "metadata": {},
   "outputs": [],
   "source": [
    "\"\"\"\n",
    "adId\n",
    "广告任务唯一标识(示例：2556)\n",
    "billId\n",
    "计费类型(示例：cpc, cpm, cpd)\n",
    "primId\n",
    "广告主唯一编号Id\n",
    "creativeType\n",
    "创意类型(示例：1. 文字广告，2. 图片广告，3. 图文广告，4. gif广告，5. 无具体创意类型)\n",
    "intertype\n",
    "交互类型(示例：0. 无交互，点击无响应，1. 点击后打开网，2. 点击下载应用，3. 点击后打开App)\n",
    "spreadAppId\n",
    "广告对应的appId\n",
    "\"\"\"\n",
    "ad_info = pd.read_csv('ad_info.csv',header=None)\n",
    "ad_info.columns = ['adId','billId','primId','creativeType','intertype','spreadAppId']\n",
    "for f in ['adId','primId','creativeType','intertype']:\n",
    "    ad_info[f] = ad_info[f].astype(np.int32)\n",
    "\n",
    "del ad_info['spreadAppId']\n",
    "#ad_info['spreadAppId'] = ad_info['spreadAppId'].astype(np.float32)"
   ]
  },
  {
   "cell_type": "code",
   "execution_count": 7,
   "metadata": {},
   "outputs": [
    {
     "name": "stdout",
     "output_type": "stream",
     "text": [
      "<class 'pandas.core.frame.DataFrame'>\n",
      "RangeIndex: 5223 entries, 0 to 5222\n",
      "Data columns (total 5 columns):\n",
      "adId            5223 non-null int32\n",
      "billId          5223 non-null object\n",
      "primId          5223 non-null int32\n",
      "creativeType    5223 non-null int32\n",
      "intertype       5223 non-null int32\n",
      "dtypes: int32(4), object(1)\n",
      "memory usage: 122.5+ KB\n"
     ]
    }
   ],
   "source": [
    "ad_info.info()"
   ]
  },
  {
   "cell_type": "code",
   "execution_count": 19,
   "metadata": {},
   "outputs": [
    {
     "data": {
      "text/plain": [
       "adId            5223\n",
       "billId             2\n",
       "primId           234\n",
       "creativeType       5\n",
       "intertype          4\n",
       "dtype: int64"
      ]
     },
     "execution_count": 19,
     "metadata": {},
     "output_type": "execute_result"
    }
   ],
   "source": [
    "ad_info.nunique()"
   ]
  },
  {
   "cell_type": "code",
   "execution_count": 8,
   "metadata": {},
   "outputs": [],
   "source": [
    "\"\"\"\n",
    "uId\n",
    "匿名化处理后的用户唯一标识(示例：u100000001)(str)\n",
    "age\n",
    "年龄段(示例：1, 2, 3, 4, 5, 6)\n",
    "gender\n",
    "性别(示例：1, 2, 3)\n",
    "city\n",
    "常住城市编码(示例：1, 2, 3…)\n",
    "province\n",
    "常驻省份编码(示例：1, 2, 3…)\n",
    "phoneType\n",
    "设备型号(示例：1, 2, 3…)\n",
    "carrier\n",
    "运营商编号(示例：1, 2, 3)\n",
    "\"\"\"\n",
    "user_info = pd.read_csv('user_info.csv',header=None)\n",
    "user_info.columns = ['uId','age','gender','city','province','phoneType','carrier']\n",
    "for f in ['age','gender','city','province','phoneType','carrier']:\n",
    "    user_info[f] = user_info[f].astype(np.float32)"
   ]
  },
  {
   "cell_type": "code",
   "execution_count": 9,
   "metadata": {},
   "outputs": [
    {
     "name": "stdout",
     "output_type": "stream",
     "text": [
      "<class 'pandas.core.frame.DataFrame'>\n",
      "RangeIndex: 51743538 entries, 0 to 51743537\n",
      "Data columns (total 7 columns):\n",
      "uId          object\n",
      "age          float32\n",
      "gender       float32\n",
      "city         float32\n",
      "province     float32\n",
      "phoneType    float32\n",
      "carrier      float32\n",
      "dtypes: float32(6), object(1)\n",
      "memory usage: 1.5+ GB\n"
     ]
    }
   ],
   "source": [
    "user_info.info()"
   ]
  },
  {
   "cell_type": "code",
   "execution_count": 17,
   "metadata": {},
   "outputs": [
    {
     "data": {
      "text/plain": [
       "uId          51743538\n",
       "age                 6\n",
       "gender              3\n",
       "city              369\n",
       "province           34\n",
       "phoneType         512\n",
       "carrier             3\n",
       "dtype: int64"
      ]
     },
     "execution_count": 17,
     "metadata": {},
     "output_type": "execute_result"
    }
   ],
   "source": [
    "user_info.nunique()"
   ]
  },
  {
   "cell_type": "code",
   "execution_count": 55,
   "metadata": {},
   "outputs": [
    {
     "data": {
      "image/png": "[encoded data removed]",
      "text/plain": [
       "<Figure size 432x288 with 1 Axes>"
      ]
     },
     "metadata": {},
     "output_type": "display_data"
    }
   ],
   "source": [
    "val = user_info.groupby('city').uId.count().sort_values().values\n",
    "\n",
    "plt.plot(range(369),val)\n",
    "plt.show()"
   ]
  },
  {
   "cell_type": "code",
   "execution_count": 10,
   "metadata": {},
   "outputs": [],
   "source": [
    "\"\"\"\n",
    "contentId\n",
    "素材唯一标识Id(int)\n",
    "firstClass\n",
    "素材内容文本的一级分类(示例：电商)(str)\n",
    "secondClass\n",
    "素材内容文本的二级分类，多值使用‘#’分割(str)\n",
    "\"\"\"\n",
    "content_info = pd.read_csv('content_info.csv',header=None)\n",
    "content_info.columns=['contentId','firstClass','secondClass']\n",
    "content_info['contentId'] = content_info['contentId'].astype(np.int32)\n",
    "content_info['secondClass'] = content_info['secondClass'].apply(lambda x: x.split('#') if isinstance(x,str) else [])"
   ]
  },
  {
   "cell_type": "code",
   "execution_count": 11,
   "metadata": {},
   "outputs": [
    {
     "name": "stdout",
     "output_type": "stream",
     "text": [
      "<class 'pandas.core.frame.DataFrame'>\n",
      "RangeIndex: 2321 entries, 0 to 2320\n",
      "Data columns (total 3 columns):\n",
      "contentId      2321 non-null int32\n",
      "firstClass     2321 non-null object\n",
      "secondClass    957 non-null object\n",
      "dtypes: int32(1), object(2)\n",
      "memory usage: 45.4+ KB\n"
     ]
    }
   ],
   "source": [
    "content_info.info()"
   ]
  },
  {
   "cell_type": "code",
   "execution_count": 18,
   "metadata": {},
   "outputs": [
    {
     "data": {
      "text/plain": [
       "contentId      2321\n",
       "firstClass       23\n",
       "secondClass      85\n",
       "dtype: int64"
      ]
     },
     "execution_count": 18,
     "metadata": {},
     "output_type": "execute_result"
    }
   ],
   "source": [
    "content_info.nunique()"
   ]
  },
  {
   "cell_type": "code",
   "execution_count": null,
   "metadata": {},
   "outputs": [],
   "source": [
    "\"\"\"\n",
    "label\n",
    "是否点击，1表示点击，0表示未点击\n",
    "uId     --------------------------------------- 外键  user_info\n",
    "匿名化处理后的用户唯一标识(示例：u100000001)\n",
    "adId    --------------------------------------- 外键  ad_info\n",
    "广告任务唯一标识\n",
    "operTime -------------------------------------- 删除，暂不考虑\n",
    "操作时间(精确到毫秒，示例: \"2019-04-01 10:45:20:257\")\n",
    "siteId ---------------------------------------- 统计特征\n",
    "媒体Id\n",
    "slotId ---------------------------------------- 统计特征\n",
    "广告位Id\n",
    "contentId ------------------------------------- 外键  content_info\n",
    "素材Id\n",
    "netType --------------------------------------- 统计特征\n",
    "网络连接类型(示例：1, 2, 3, 4, 5, 6)\n",
    "\"\"\"\n",
    "train = pd.read_csv('train_20190518.csv',header=None)\n",
    "train.columns = ['label','uId','adId','operTime','siteId','slotId','contentId','netType']\n",
    "\n",
    "del train['operTime']\n",
    "\n",
    "test = pd.read_csv('test_20190518.csv',header=None)\n",
    "test.columns = ['label','uId','adId','operTime','siteId','slotId','contentId','netType']\n",
    "\n",
    "train_cols = train.shape[0]\n",
    "data = pd.concat([train,test])\n",
    "del train\n",
    "del test\n",
    "gc.collect()\n",
    "\n",
    "data = data.merge(user_info,on='uId',how='left')\n",
    "data = data.merge(ad_info,on='adId',how='left')\n",
    "data = data.merge(content_info,on='contentId',how='left')\n",
    "\n",
    "del user_info\n",
    "del ad_info\n",
    "del content_info\n",
    "gc.collect()"
   ]
  },
  {
   "cell_type": "code",
   "execution_count": null,
   "metadata": {},
   "outputs": [],
   "source": []
  }
 ],
 "metadata": {
  "kernelspec": {
   "display_name": "Python 3",
   "language": "python",
   "name": "python3"
  },
  "language_info": {
   "codemirror_mode": {
    "name": "ipython",
    "version": 3
   },
   "file_extension": ".py",
   "mimetype": "text/x-python",
   "name": "python",
   "nbconvert_exporter": "python",
   "pygments_lexer": "ipython3",
   "version": "3.6.4"
  }
 },
 "nbformat": 4,
 "nbformat_minor": 2
}
